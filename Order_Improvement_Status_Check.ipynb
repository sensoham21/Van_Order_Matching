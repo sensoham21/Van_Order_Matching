{
 "cells": [
  {
   "cell_type": "code",
   "execution_count": 55,
   "metadata": {},
   "outputs": [],
   "source": [
    "import pandas as pd\n",
    "import numpy as np\n",
    "import matplotlib.pyplot as plt\n",
    "import seaborn as sns\n",
    "import datetime as dt\n",
    "import scipy.stats as st\n",
    "import statsmodels as sm\n",
    "import matplotlib.patches as mpatches\n",
    "\n",
    "%matplotlib inline\n",
    "plt.style.use('ggplot')"
   ]
  },
  {
   "cell_type": "markdown",
   "metadata": {},
   "source": [
    "### Let's import the data and take a look at its statistics first"
   ]
  },
  {
   "cell_type": "code",
   "execution_count": 61,
   "metadata": {},
   "outputs": [
    {
     "data": {
      "text/html": [
       "<div>\n",
       "<style scoped>\n",
       "    .dataframe tbody tr th:only-of-type {\n",
       "        vertical-align: middle;\n",
       "    }\n",
       "\n",
       "    .dataframe tbody tr th {\n",
       "        vertical-align: top;\n",
       "    }\n",
       "\n",
       "    .dataframe thead th {\n",
       "        text-align: right;\n",
       "    }\n",
       "</style>\n",
       "<table border=\"1\" class=\"dataframe\">\n",
       "  <thead>\n",
       "    <tr style=\"text-align: right;\">\n",
       "      <th></th>\n",
       "      <th>Driver Response Timestamp</th>\n",
       "      <th>Order Create Timestamp</th>\n",
       "      <th>Order Id</th>\n",
       "    </tr>\n",
       "  </thead>\n",
       "  <tbody>\n",
       "    <tr>\n",
       "      <th>0</th>\n",
       "      <td>3/24/17 22:58:31</td>\n",
       "      <td>3/24/17 22:57:38</td>\n",
       "      <td>1</td>\n",
       "    </tr>\n",
       "    <tr>\n",
       "      <th>1</th>\n",
       "      <td>3/25/17 1:04:53</td>\n",
       "      <td>3/25/17 1:04:53</td>\n",
       "      <td>2</td>\n",
       "    </tr>\n",
       "    <tr>\n",
       "      <th>2</th>\n",
       "      <td>3/25/17 1:06:16</td>\n",
       "      <td>3/25/17 1:06:16</td>\n",
       "      <td>3</td>\n",
       "    </tr>\n",
       "    <tr>\n",
       "      <th>3</th>\n",
       "      <td>3/25/17 1:08:40</td>\n",
       "      <td>3/25/17 1:07:03</td>\n",
       "      <td>4</td>\n",
       "    </tr>\n",
       "    <tr>\n",
       "      <th>4</th>\n",
       "      <td>3/25/17 2:34:18</td>\n",
       "      <td>3/25/17 2:34:08</td>\n",
       "      <td>5</td>\n",
       "    </tr>\n",
       "  </tbody>\n",
       "</table>\n",
       "</div>"
      ],
      "text/plain": [
       "  Driver Response Timestamp Order Create Timestamp  Order Id\n",
       "0          3/24/17 22:58:31       3/24/17 22:57:38         1\n",
       "1           3/25/17 1:04:53        3/25/17 1:04:53         2\n",
       "2           3/25/17 1:06:16        3/25/17 1:06:16         3\n",
       "3           3/25/17 1:08:40        3/25/17 1:07:03         4\n",
       "4           3/25/17 2:34:18        3/25/17 2:34:08         5"
      ]
     },
     "execution_count": 61,
     "metadata": {},
     "output_type": "execute_result"
    }
   ],
   "source": [
    "response_df = pd.read_csv('response_data.csv')\n",
    "response_df.head()"
   ]
  },
  {
   "cell_type": "code",
   "execution_count": 62,
   "metadata": {},
   "outputs": [
    {
     "name": "stdout",
     "output_type": "stream",
     "text": [
      "<class 'pandas.core.frame.DataFrame'>\n",
      "RangeIndex: 5000 entries, 0 to 4999\n",
      "Data columns (total 3 columns):\n",
      " #   Column                     Non-Null Count  Dtype \n",
      "---  ------                     --------------  ----- \n",
      " 0   Driver Response Timestamp  5000 non-null   object\n",
      " 1   Order Create Timestamp     5000 non-null   object\n",
      " 2   Order Id                   5000 non-null   int64 \n",
      "dtypes: int64(1), object(2)\n",
      "memory usage: 117.3+ KB\n"
     ]
    }
   ],
   "source": [
    "# Information about the dataset\n",
    "response_df.info()"
   ]
  },
  {
   "cell_type": "markdown",
   "metadata": {},
   "source": [
    "#### There are no null values in the dataset. This is good because we won't need to clean it."
   ]
  },
  {
   "cell_type": "markdown",
   "metadata": {},
   "source": [
    "#### We will now create some additional variables from the original dataset for better analysis"
   ]
  },
  {
   "cell_type": "code",
   "execution_count": 63,
   "metadata": {},
   "outputs": [],
   "source": [
    "# First we change the format of the response time and create time fields to datetime format\n",
    "\n",
    "response_df['Driver Response Timestamp'] = pd.to_datetime(response_df['Driver Response Timestamp'])\n",
    "response_df['Order Create Timestamp'] = pd.to_datetime(response_df['Order Create Timestamp'])\n",
    "\n",
    "# We will create variables for duration of response from driver and order time\n",
    "response_df['Duration'] = response_df['Driver Response Timestamp'] - response_df['Order Create Timestamp']\n",
    "response_df['Duration'] = response_df['Duration'].dt.total_seconds()\n",
    "\n",
    "response_df['Duration in mins'] = response_df['Duration']/60.0\n",
    "\n",
    "# We will create variables for hours, day and day of the week for order placed time\n",
    "response_df['Order hour'] = response_df['Order Create Timestamp'].dt.hour\n",
    "response_df['Order day'] = response_df['Order Create Timestamp'].dt.day\n",
    "response_df['Order day of week'] = response_df['Order Create Timestamp'].dt.weekday"
   ]
  },
  {
   "cell_type": "code",
   "execution_count": 64,
   "metadata": {},
   "outputs": [
    {
     "data": {
      "text/html": [
       "<div>\n",
       "<style scoped>\n",
       "    .dataframe tbody tr th:only-of-type {\n",
       "        vertical-align: middle;\n",
       "    }\n",
       "\n",
       "    .dataframe tbody tr th {\n",
       "        vertical-align: top;\n",
       "    }\n",
       "\n",
       "    .dataframe thead th {\n",
       "        text-align: right;\n",
       "    }\n",
       "</style>\n",
       "<table border=\"1\" class=\"dataframe\">\n",
       "  <thead>\n",
       "    <tr style=\"text-align: right;\">\n",
       "      <th></th>\n",
       "      <th>Driver Response Timestamp</th>\n",
       "      <th>Order Create Timestamp</th>\n",
       "      <th>Order Id</th>\n",
       "      <th>Duration</th>\n",
       "      <th>Duration in mins</th>\n",
       "      <th>Order hour</th>\n",
       "      <th>Order day</th>\n",
       "      <th>Order day of week</th>\n",
       "    </tr>\n",
       "  </thead>\n",
       "  <tbody>\n",
       "    <tr>\n",
       "      <th>0</th>\n",
       "      <td>2017-03-24 22:58:31</td>\n",
       "      <td>2017-03-24 22:57:38</td>\n",
       "      <td>1</td>\n",
       "      <td>53.0</td>\n",
       "      <td>0.883333</td>\n",
       "      <td>22</td>\n",
       "      <td>24</td>\n",
       "      <td>4</td>\n",
       "    </tr>\n",
       "    <tr>\n",
       "      <th>1</th>\n",
       "      <td>2017-03-25 01:04:53</td>\n",
       "      <td>2017-03-25 01:04:53</td>\n",
       "      <td>2</td>\n",
       "      <td>0.0</td>\n",
       "      <td>0.000000</td>\n",
       "      <td>1</td>\n",
       "      <td>25</td>\n",
       "      <td>5</td>\n",
       "    </tr>\n",
       "    <tr>\n",
       "      <th>2</th>\n",
       "      <td>2017-03-25 01:06:16</td>\n",
       "      <td>2017-03-25 01:06:16</td>\n",
       "      <td>3</td>\n",
       "      <td>0.0</td>\n",
       "      <td>0.000000</td>\n",
       "      <td>1</td>\n",
       "      <td>25</td>\n",
       "      <td>5</td>\n",
       "    </tr>\n",
       "    <tr>\n",
       "      <th>3</th>\n",
       "      <td>2017-03-25 01:08:40</td>\n",
       "      <td>2017-03-25 01:07:03</td>\n",
       "      <td>4</td>\n",
       "      <td>97.0</td>\n",
       "      <td>1.616667</td>\n",
       "      <td>1</td>\n",
       "      <td>25</td>\n",
       "      <td>5</td>\n",
       "    </tr>\n",
       "    <tr>\n",
       "      <th>4</th>\n",
       "      <td>2017-03-25 02:34:18</td>\n",
       "      <td>2017-03-25 02:34:08</td>\n",
       "      <td>5</td>\n",
       "      <td>10.0</td>\n",
       "      <td>0.166667</td>\n",
       "      <td>2</td>\n",
       "      <td>25</td>\n",
       "      <td>5</td>\n",
       "    </tr>\n",
       "  </tbody>\n",
       "</table>\n",
       "</div>"
      ],
      "text/plain": [
       "  Driver Response Timestamp Order Create Timestamp  Order Id  Duration  \\\n",
       "0       2017-03-24 22:58:31    2017-03-24 22:57:38         1      53.0   \n",
       "1       2017-03-25 01:04:53    2017-03-25 01:04:53         2       0.0   \n",
       "2       2017-03-25 01:06:16    2017-03-25 01:06:16         3       0.0   \n",
       "3       2017-03-25 01:08:40    2017-03-25 01:07:03         4      97.0   \n",
       "4       2017-03-25 02:34:18    2017-03-25 02:34:08         5      10.0   \n",
       "\n",
       "   Duration in mins  Order hour  Order day  Order day of week  \n",
       "0          0.883333          22         24                  4  \n",
       "1          0.000000           1         25                  5  \n",
       "2          0.000000           1         25                  5  \n",
       "3          1.616667           1         25                  5  \n",
       "4          0.166667           2         25                  5  "
      ]
     },
     "execution_count": 64,
     "metadata": {},
     "output_type": "execute_result"
    }
   ],
   "source": [
    "response_df.head(5)"
   ]
  },
  {
   "cell_type": "code",
   "execution_count": null,
   "metadata": {},
   "outputs": [],
   "source": []
  },
  {
   "cell_type": "code",
   "execution_count": null,
   "metadata": {},
   "outputs": [],
   "source": []
  },
  {
   "cell_type": "markdown",
   "metadata": {},
   "source": [
    "#### We will now get the basic statistical information from the dataset"
   ]
  },
  {
   "cell_type": "code",
   "execution_count": 65,
   "metadata": {},
   "outputs": [
    {
     "data": {
      "text/html": [
       "<div>\n",
       "<style scoped>\n",
       "    .dataframe tbody tr th:only-of-type {\n",
       "        vertical-align: middle;\n",
       "    }\n",
       "\n",
       "    .dataframe tbody tr th {\n",
       "        vertical-align: top;\n",
       "    }\n",
       "\n",
       "    .dataframe thead th {\n",
       "        text-align: right;\n",
       "    }\n",
       "</style>\n",
       "<table border=\"1\" class=\"dataframe\">\n",
       "  <thead>\n",
       "    <tr style=\"text-align: right;\">\n",
       "      <th></th>\n",
       "      <th>Duration</th>\n",
       "      <th>Duration in mins</th>\n",
       "    </tr>\n",
       "  </thead>\n",
       "  <tbody>\n",
       "    <tr>\n",
       "      <th>count</th>\n",
       "      <td>5000.000000</td>\n",
       "      <td>5000.000000</td>\n",
       "    </tr>\n",
       "    <tr>\n",
       "      <th>mean</th>\n",
       "      <td>48.891200</td>\n",
       "      <td>0.814853</td>\n",
       "    </tr>\n",
       "    <tr>\n",
       "      <th>std</th>\n",
       "      <td>212.811331</td>\n",
       "      <td>3.546856</td>\n",
       "    </tr>\n",
       "    <tr>\n",
       "      <th>min</th>\n",
       "      <td>0.000000</td>\n",
       "      <td>0.000000</td>\n",
       "    </tr>\n",
       "    <tr>\n",
       "      <th>25%</th>\n",
       "      <td>9.000000</td>\n",
       "      <td>0.150000</td>\n",
       "    </tr>\n",
       "    <tr>\n",
       "      <th>50%</th>\n",
       "      <td>12.000000</td>\n",
       "      <td>0.200000</td>\n",
       "    </tr>\n",
       "    <tr>\n",
       "      <th>75%</th>\n",
       "      <td>26.000000</td>\n",
       "      <td>0.433333</td>\n",
       "    </tr>\n",
       "    <tr>\n",
       "      <th>max</th>\n",
       "      <td>4102.000000</td>\n",
       "      <td>68.366667</td>\n",
       "    </tr>\n",
       "  </tbody>\n",
       "</table>\n",
       "</div>"
      ],
      "text/plain": [
       "          Duration  Duration in mins\n",
       "count  5000.000000       5000.000000\n",
       "mean     48.891200          0.814853\n",
       "std     212.811331          3.546856\n",
       "min       0.000000          0.000000\n",
       "25%       9.000000          0.150000\n",
       "50%      12.000000          0.200000\n",
       "75%      26.000000          0.433333\n",
       "max    4102.000000         68.366667"
      ]
     },
     "execution_count": 65,
     "metadata": {},
     "output_type": "execute_result"
    }
   ],
   "source": [
    "response_df[['Duration','Duration in mins']].describe()"
   ]
  },
  {
   "cell_type": "markdown",
   "metadata": {},
   "source": [
    "#### The mean of the order matching time is 48.89 seconds and the median is 12 seconds."
   ]
  },
  {
   "cell_type": "markdown",
   "metadata": {},
   "source": [
    "#### Now we will seperate the records based on the implementation of new system at 2017-03-30 12:00 AM"
   ]
  },
  {
   "cell_type": "code",
   "execution_count": 66,
   "metadata": {},
   "outputs": [],
   "source": [
    "# We create a dataframe with responses berfore the change\n",
    "response_prior = response_df[response_df['Order Create Timestamp'] < pd.to_datetime('2017-03-30 00:00:00')]\n",
    "\n",
    "# We create a dataframe with the responses after the change\n",
    "response_post = response_df[response_df['Order Create Timestamp'] > pd.to_datetime('2017-03-30 00:00:00')]"
   ]
  },
  {
   "cell_type": "code",
   "execution_count": 67,
   "metadata": {},
   "outputs": [
    {
     "data": {
      "text/html": [
       "<div>\n",
       "<style scoped>\n",
       "    .dataframe tbody tr th:only-of-type {\n",
       "        vertical-align: middle;\n",
       "    }\n",
       "\n",
       "    .dataframe tbody tr th {\n",
       "        vertical-align: top;\n",
       "    }\n",
       "\n",
       "    .dataframe thead th {\n",
       "        text-align: right;\n",
       "    }\n",
       "</style>\n",
       "<table border=\"1\" class=\"dataframe\">\n",
       "  <thead>\n",
       "    <tr style=\"text-align: right;\">\n",
       "      <th></th>\n",
       "      <th>Driver Response Timestamp</th>\n",
       "      <th>Order Create Timestamp</th>\n",
       "      <th>Order Id</th>\n",
       "      <th>Duration</th>\n",
       "      <th>Duration in mins</th>\n",
       "      <th>Order hour</th>\n",
       "      <th>Order day</th>\n",
       "      <th>Order day of week</th>\n",
       "    </tr>\n",
       "  </thead>\n",
       "  <tbody>\n",
       "    <tr>\n",
       "      <th>2593</th>\n",
       "      <td>2017-03-29 18:27:04</td>\n",
       "      <td>2017-03-29 18:26:56</td>\n",
       "      <td>2594</td>\n",
       "      <td>8.0</td>\n",
       "      <td>0.133333</td>\n",
       "      <td>18</td>\n",
       "      <td>29</td>\n",
       "      <td>2</td>\n",
       "    </tr>\n",
       "    <tr>\n",
       "      <th>2594</th>\n",
       "      <td>2017-03-29 18:27:15</td>\n",
       "      <td>2017-03-29 18:27:07</td>\n",
       "      <td>2595</td>\n",
       "      <td>8.0</td>\n",
       "      <td>0.133333</td>\n",
       "      <td>18</td>\n",
       "      <td>29</td>\n",
       "      <td>2</td>\n",
       "    </tr>\n",
       "    <tr>\n",
       "      <th>2595</th>\n",
       "      <td>2017-03-29 18:32:30</td>\n",
       "      <td>2017-03-29 18:32:22</td>\n",
       "      <td>2596</td>\n",
       "      <td>8.0</td>\n",
       "      <td>0.133333</td>\n",
       "      <td>18</td>\n",
       "      <td>29</td>\n",
       "      <td>2</td>\n",
       "    </tr>\n",
       "    <tr>\n",
       "      <th>2596</th>\n",
       "      <td>2017-03-29 18:44:05</td>\n",
       "      <td>2017-03-29 18:43:51</td>\n",
       "      <td>2597</td>\n",
       "      <td>14.0</td>\n",
       "      <td>0.233333</td>\n",
       "      <td>18</td>\n",
       "      <td>29</td>\n",
       "      <td>2</td>\n",
       "    </tr>\n",
       "    <tr>\n",
       "      <th>2597</th>\n",
       "      <td>2017-03-29 19:05:43</td>\n",
       "      <td>2017-03-29 19:05:35</td>\n",
       "      <td>2598</td>\n",
       "      <td>8.0</td>\n",
       "      <td>0.133333</td>\n",
       "      <td>19</td>\n",
       "      <td>29</td>\n",
       "      <td>2</td>\n",
       "    </tr>\n",
       "  </tbody>\n",
       "</table>\n",
       "</div>"
      ],
      "text/plain": [
       "     Driver Response Timestamp Order Create Timestamp  Order Id  Duration  \\\n",
       "2593       2017-03-29 18:27:04    2017-03-29 18:26:56      2594       8.0   \n",
       "2594       2017-03-29 18:27:15    2017-03-29 18:27:07      2595       8.0   \n",
       "2595       2017-03-29 18:32:30    2017-03-29 18:32:22      2596       8.0   \n",
       "2596       2017-03-29 18:44:05    2017-03-29 18:43:51      2597      14.0   \n",
       "2597       2017-03-29 19:05:43    2017-03-29 19:05:35      2598       8.0   \n",
       "\n",
       "      Duration in mins  Order hour  Order day  Order day of week  \n",
       "2593          0.133333          18         29                  2  \n",
       "2594          0.133333          18         29                  2  \n",
       "2595          0.133333          18         29                  2  \n",
       "2596          0.233333          18         29                  2  \n",
       "2597          0.133333          19         29                  2  "
      ]
     },
     "execution_count": 67,
     "metadata": {},
     "output_type": "execute_result"
    }
   ],
   "source": [
    "# Checking the last values before the change was implemented\n",
    "response_prior.tail(5)"
   ]
  },
  {
   "cell_type": "code",
   "execution_count": 68,
   "metadata": {},
   "outputs": [
    {
     "data": {
      "text/html": [
       "<div>\n",
       "<style scoped>\n",
       "    .dataframe tbody tr th:only-of-type {\n",
       "        vertical-align: middle;\n",
       "    }\n",
       "\n",
       "    .dataframe tbody tr th {\n",
       "        vertical-align: top;\n",
       "    }\n",
       "\n",
       "    .dataframe thead th {\n",
       "        text-align: right;\n",
       "    }\n",
       "</style>\n",
       "<table border=\"1\" class=\"dataframe\">\n",
       "  <thead>\n",
       "    <tr style=\"text-align: right;\">\n",
       "      <th></th>\n",
       "      <th>Driver Response Timestamp</th>\n",
       "      <th>Order Create Timestamp</th>\n",
       "      <th>Order Id</th>\n",
       "      <th>Duration</th>\n",
       "      <th>Duration in mins</th>\n",
       "      <th>Order hour</th>\n",
       "      <th>Order day</th>\n",
       "      <th>Order day of week</th>\n",
       "    </tr>\n",
       "  </thead>\n",
       "  <tbody>\n",
       "    <tr>\n",
       "      <th>2598</th>\n",
       "      <td>2017-03-30 02:33:33</td>\n",
       "      <td>2017-03-30 02:32:35</td>\n",
       "      <td>2599</td>\n",
       "      <td>58.0</td>\n",
       "      <td>0.966667</td>\n",
       "      <td>2</td>\n",
       "      <td>30</td>\n",
       "      <td>3</td>\n",
       "    </tr>\n",
       "    <tr>\n",
       "      <th>2599</th>\n",
       "      <td>2017-03-30 02:40:47</td>\n",
       "      <td>2017-03-30 02:40:13</td>\n",
       "      <td>2600</td>\n",
       "      <td>34.0</td>\n",
       "      <td>0.566667</td>\n",
       "      <td>2</td>\n",
       "      <td>30</td>\n",
       "      <td>3</td>\n",
       "    </tr>\n",
       "    <tr>\n",
       "      <th>2600</th>\n",
       "      <td>2017-03-30 02:45:19</td>\n",
       "      <td>2017-03-30 02:44:01</td>\n",
       "      <td>2601</td>\n",
       "      <td>78.0</td>\n",
       "      <td>1.300000</td>\n",
       "      <td>2</td>\n",
       "      <td>30</td>\n",
       "      <td>3</td>\n",
       "    </tr>\n",
       "    <tr>\n",
       "      <th>2601</th>\n",
       "      <td>2017-03-30 02:56:25</td>\n",
       "      <td>2017-03-30 02:55:51</td>\n",
       "      <td>2602</td>\n",
       "      <td>34.0</td>\n",
       "      <td>0.566667</td>\n",
       "      <td>2</td>\n",
       "      <td>30</td>\n",
       "      <td>3</td>\n",
       "    </tr>\n",
       "    <tr>\n",
       "      <th>2602</th>\n",
       "      <td>2017-03-30 03:05:39</td>\n",
       "      <td>2017-03-30 03:03:45</td>\n",
       "      <td>2603</td>\n",
       "      <td>114.0</td>\n",
       "      <td>1.900000</td>\n",
       "      <td>3</td>\n",
       "      <td>30</td>\n",
       "      <td>3</td>\n",
       "    </tr>\n",
       "  </tbody>\n",
       "</table>\n",
       "</div>"
      ],
      "text/plain": [
       "     Driver Response Timestamp Order Create Timestamp  Order Id  Duration  \\\n",
       "2598       2017-03-30 02:33:33    2017-03-30 02:32:35      2599      58.0   \n",
       "2599       2017-03-30 02:40:47    2017-03-30 02:40:13      2600      34.0   \n",
       "2600       2017-03-30 02:45:19    2017-03-30 02:44:01      2601      78.0   \n",
       "2601       2017-03-30 02:56:25    2017-03-30 02:55:51      2602      34.0   \n",
       "2602       2017-03-30 03:05:39    2017-03-30 03:03:45      2603     114.0   \n",
       "\n",
       "      Duration in mins  Order hour  Order day  Order day of week  \n",
       "2598          0.966667           2         30                  3  \n",
       "2599          0.566667           2         30                  3  \n",
       "2600          1.300000           2         30                  3  \n",
       "2601          0.566667           2         30                  3  \n",
       "2602          1.900000           3         30                  3  "
      ]
     },
     "execution_count": 68,
     "metadata": {},
     "output_type": "execute_result"
    }
   ],
   "source": [
    "# Checking the first values after the change was implemented\n",
    "response_post.head(5)"
   ]
  },
  {
   "cell_type": "code",
   "execution_count": 69,
   "metadata": {},
   "outputs": [
    {
     "data": {
      "text/plain": [
       "(2598, 8)"
      ]
     },
     "execution_count": 69,
     "metadata": {},
     "output_type": "execute_result"
    }
   ],
   "source": [
    "# Lets check the total number of records before the change\n",
    "response_prior.shape"
   ]
  },
  {
   "cell_type": "code",
   "execution_count": 70,
   "metadata": {},
   "outputs": [
    {
     "data": {
      "text/plain": [
       "(2402, 8)"
      ]
     },
     "execution_count": 70,
     "metadata": {},
     "output_type": "execute_result"
    }
   ],
   "source": [
    "# Lets check the total number of records after the change\n",
    "response_post.shape"
   ]
  },
  {
   "cell_type": "markdown",
   "metadata": {},
   "source": [
    "## Question1) What is the resulting impact from the change?"
   ]
  },
  {
   "cell_type": "code",
   "execution_count": 71,
   "metadata": {},
   "outputs": [
    {
     "data": {
      "text/html": [
       "<div>\n",
       "<style scoped>\n",
       "    .dataframe tbody tr th:only-of-type {\n",
       "        vertical-align: middle;\n",
       "    }\n",
       "\n",
       "    .dataframe tbody tr th {\n",
       "        vertical-align: top;\n",
       "    }\n",
       "\n",
       "    .dataframe thead th {\n",
       "        text-align: right;\n",
       "    }\n",
       "</style>\n",
       "<table border=\"1\" class=\"dataframe\">\n",
       "  <thead>\n",
       "    <tr style=\"text-align: right;\">\n",
       "      <th></th>\n",
       "      <th>Duration</th>\n",
       "      <th>Duration in mins</th>\n",
       "    </tr>\n",
       "  </thead>\n",
       "  <tbody>\n",
       "    <tr>\n",
       "      <th>count</th>\n",
       "      <td>2598.000000</td>\n",
       "      <td>2598.000000</td>\n",
       "    </tr>\n",
       "    <tr>\n",
       "      <th>mean</th>\n",
       "      <td>47.854888</td>\n",
       "      <td>0.797581</td>\n",
       "    </tr>\n",
       "    <tr>\n",
       "      <th>std</th>\n",
       "      <td>216.946677</td>\n",
       "      <td>3.615778</td>\n",
       "    </tr>\n",
       "    <tr>\n",
       "      <th>min</th>\n",
       "      <td>0.000000</td>\n",
       "      <td>0.000000</td>\n",
       "    </tr>\n",
       "    <tr>\n",
       "      <th>25%</th>\n",
       "      <td>9.000000</td>\n",
       "      <td>0.150000</td>\n",
       "    </tr>\n",
       "    <tr>\n",
       "      <th>50%</th>\n",
       "      <td>12.500000</td>\n",
       "      <td>0.208333</td>\n",
       "    </tr>\n",
       "    <tr>\n",
       "      <th>75%</th>\n",
       "      <td>25.000000</td>\n",
       "      <td>0.416667</td>\n",
       "    </tr>\n",
       "    <tr>\n",
       "      <th>max</th>\n",
       "      <td>4102.000000</td>\n",
       "      <td>68.366667</td>\n",
       "    </tr>\n",
       "  </tbody>\n",
       "</table>\n",
       "</div>"
      ],
      "text/plain": [
       "          Duration  Duration in mins\n",
       "count  2598.000000       2598.000000\n",
       "mean     47.854888          0.797581\n",
       "std     216.946677          3.615778\n",
       "min       0.000000          0.000000\n",
       "25%       9.000000          0.150000\n",
       "50%      12.500000          0.208333\n",
       "75%      25.000000          0.416667\n",
       "max    4102.000000         68.366667"
      ]
     },
     "execution_count": 71,
     "metadata": {},
     "output_type": "execute_result"
    }
   ],
   "source": [
    "# Let's get the statistical information for the duration for both prior and post set of records\n",
    "extract = ['Duration','Duration in mins']\n",
    "\n",
    "response_prior[extract].describe()"
   ]
  },
  {
   "cell_type": "code",
   "execution_count": 72,
   "metadata": {},
   "outputs": [
    {
     "data": {
      "text/html": [
       "<div>\n",
       "<style scoped>\n",
       "    .dataframe tbody tr th:only-of-type {\n",
       "        vertical-align: middle;\n",
       "    }\n",
       "\n",
       "    .dataframe tbody tr th {\n",
       "        vertical-align: top;\n",
       "    }\n",
       "\n",
       "    .dataframe thead th {\n",
       "        text-align: right;\n",
       "    }\n",
       "</style>\n",
       "<table border=\"1\" class=\"dataframe\">\n",
       "  <thead>\n",
       "    <tr style=\"text-align: right;\">\n",
       "      <th></th>\n",
       "      <th>Duration</th>\n",
       "      <th>Duration in mins</th>\n",
       "    </tr>\n",
       "  </thead>\n",
       "  <tbody>\n",
       "    <tr>\n",
       "      <th>count</th>\n",
       "      <td>2402.000000</td>\n",
       "      <td>2402.000000</td>\n",
       "    </tr>\n",
       "    <tr>\n",
       "      <th>mean</th>\n",
       "      <td>50.012073</td>\n",
       "      <td>0.833535</td>\n",
       "    </tr>\n",
       "    <tr>\n",
       "      <th>std</th>\n",
       "      <td>208.285455</td>\n",
       "      <td>3.471424</td>\n",
       "    </tr>\n",
       "    <tr>\n",
       "      <th>min</th>\n",
       "      <td>0.000000</td>\n",
       "      <td>0.000000</td>\n",
       "    </tr>\n",
       "    <tr>\n",
       "      <th>25%</th>\n",
       "      <td>9.000000</td>\n",
       "      <td>0.150000</td>\n",
       "    </tr>\n",
       "    <tr>\n",
       "      <th>50%</th>\n",
       "      <td>11.000000</td>\n",
       "      <td>0.183333</td>\n",
       "    </tr>\n",
       "    <tr>\n",
       "      <th>75%</th>\n",
       "      <td>26.000000</td>\n",
       "      <td>0.433333</td>\n",
       "    </tr>\n",
       "    <tr>\n",
       "      <th>max</th>\n",
       "      <td>3945.000000</td>\n",
       "      <td>65.750000</td>\n",
       "    </tr>\n",
       "  </tbody>\n",
       "</table>\n",
       "</div>"
      ],
      "text/plain": [
       "          Duration  Duration in mins\n",
       "count  2402.000000       2402.000000\n",
       "mean     50.012073          0.833535\n",
       "std     208.285455          3.471424\n",
       "min       0.000000          0.000000\n",
       "25%       9.000000          0.150000\n",
       "50%      11.000000          0.183333\n",
       "75%      26.000000          0.433333\n",
       "max    3945.000000         65.750000"
      ]
     },
     "execution_count": 72,
     "metadata": {},
     "output_type": "execute_result"
    }
   ],
   "source": [
    "response_post[extract].describe()"
   ]
  },
  {
   "cell_type": "markdown",
   "metadata": {},
   "source": [
    "#### We see an improvement in standard deviation (208 seconds from 216 seconds), median (11 seconds from 12.5 seconds) and max wait time (3945 seconds from 4102 seconds). However the mean has increased (50.01 seconds from 47.85 seconds). This suggests that there might be more order match time at the upper end of the distribution for the post change dataset"
   ]
  },
  {
   "cell_type": "code",
   "execution_count": 73,
   "metadata": {},
   "outputs": [
    {
     "name": "stdout",
     "output_type": "stream",
     "text": [
      "Records (Prior) 90th percentile: 52.00 | Number of records larger than 90th percentile: 238\n",
      "Records (Prior) 92th percentile: 54.00 | Number of records larger than 92th percentile: 207\n",
      "Records (Prior) 94th percentile: 63.00 | Number of records larger than 94th percentile: 153\n",
      "Records (Prior) 96th percentile: 101.00 | Number of records larger than 96th percentile: 103\n",
      "Records (Prior) 98th percentile: 384.26 | Number of records larger than 98th percentile: 52\n",
      "\n",
      "\n",
      "Records (post) 90th percentile: 57.00 | Number of records larger than 90th percentile: 235\n",
      "Records (post) 92th percentile: 65.92 | Number of records larger than 92th percentile: 193\n",
      "Records (post) 94th percentile: 82.94 | Number of records larger than 94th percentile: 145\n",
      "Records (post) 96th percentile: 144.96 | Number of records larger than 96th percentile: 97\n",
      "Records (post) 98th percentile: 509.40 | Number of records larger than 98th percentile: 49\n"
     ]
    }
   ],
   "source": [
    "# We will check the percentile at the upper end to verify this\n",
    "for i in range(90,100,2):\n",
    "    print('Records (Prior) {}th percentile: {:.2f} | Number of records larger than {}th percentile: {}'\n",
    "          .format(i, np.percentile(response_prior['Duration'], i), i,\n",
    "                                   response_prior[response_prior['Duration'] > np.percentile(response_prior['Duration'], i)].shape[0] ))\n",
    "print('\\n')\n",
    "for i in range(90,100,2):\n",
    "    print('Records (post) {}th percentile: {:.2f} | Number of records larger than {}th percentile: {}'\n",
    "          .format(i, np.percentile(response_post['Duration'], i), i,\n",
    "                                   response_post[response_post['Duration'] > np.percentile(response_post['Duration'], i)].shape[0] ))"
   ]
  },
  {
   "cell_type": "code",
   "execution_count": 74,
   "metadata": {},
   "outputs": [
    {
     "data": {
      "image/png": "[encoded data removed]",
      "text/plain": [
       "<Figure size 1152x432 with 2 Axes>"
      ]
     },
     "metadata": {},
     "output_type": "display_data"
    }
   ],
   "source": [
    "# Lets visualize the order match time distribution\n",
    "fig, ax = plt.subplots(nrows=2,sharex='col',sharey=True, figsize=(16,6))\n",
    "sns.distplot(response_prior['Duration'], ax=ax[0])\n",
    "sns.distplot(response_post['Duration'], ax=ax[1])\n",
    "ax[0].set_xlabel('')\n",
    "ax[1].set_xlabel('Order Match Time (seconds)',fontsize=12)\n",
    "ax[0].set_title('Prior system change')\n",
    "ax[1].set_title('Post system change')\n",
    "fig.suptitle('Order Match Time (seconds) distribution)', fontsize=16)\n",
    "plt.show()"
   ]
  },
  {
   "cell_type": "markdown",
   "metadata": {},
   "source": [
    "#### Since the plots are highly skewed, lets plot the order match time <= 90th percentile"
   ]
  },
  {
   "cell_type": "code",
   "execution_count": 75,
   "metadata": {},
   "outputs": [],
   "source": [
    "# First we create dataframes for both the prior and post set of records\n",
    "response_prior90 = response_prior[response_prior['Duration']<=np.percentile(response_prior['Duration'], 90)].reset_index(drop=True)\n",
    "response_post90 = response_post[response_post['Duration']<=np.percentile(response_post['Duration'], 90)].reset_index(drop=True)"
   ]
  },
  {
   "cell_type": "code",
   "execution_count": 76,
   "metadata": {},
   "outputs": [
    {
     "data": {
      "image/png": "[encoded data removed]",
      "text/plain": [
       "<Figure size 1152x432 with 2 Axes>"
      ]
     },
     "metadata": {},
     "output_type": "display_data"
    }
   ],
   "source": [
    "fig, ax = plt.subplots(nrows=2,sharex='col',sharey=True, figsize=(16,6))\n",
    "sns.distplot(response_prior90['Duration'], ax=ax[0])\n",
    "sns.distplot(response_post90['Duration'], ax=ax[1])\n",
    "ax[0].set_xlabel('')\n",
    "ax[1].set_xlabel('Order Match Time (seconds)',fontsize=12)\n",
    "ax[0].set_title('Prior system change')\n",
    "ax[1].set_title('Post system change')\n",
    "fig.suptitle('Order Match Time (seconds) distribution (<= 90th percentile)', fontsize=16)\n",
    "plt.show()"
   ]
  },
  {
   "cell_type": "markdown",
   "metadata": {},
   "source": [
    "#### The histograms are quite similar and are not normally distributed. Now let's plot a boxplot to better understand the distribution"
   ]
  },
  {
   "cell_type": "code",
   "execution_count": 77,
   "metadata": {},
   "outputs": [
    {
     "data": {
      "image/png": "[encoded data removed]",
      "text/plain": [
       "<Figure size 1152x432 with 2 Axes>"
      ]
     },
     "metadata": {},
     "output_type": "display_data"
    }
   ],
   "source": [
    "fig, ax = plt.subplots(nrows=2,sharex='col',sharey=True, figsize=(16,6))\n",
    "sns.boxplot(x=response_prior90['Duration'], whis=[5, 95], ax=ax[0])\n",
    "sns.boxplot(x=response_post90['Duration'], whis=[5, 95], ax=ax[1])\n",
    "ax[0].set_xlabel('')\n",
    "ax[1].set_xlabel('Order Match Time (seconds)',fontsize=12)\n",
    "ax[0].set_title('Prior system change')\n",
    "ax[1].set_title('Post system change')\n",
    "fig.suptitle('Order Match Time (seconds) boxplot (<= 90th percentile)', fontsize=16)\n",
    "plt.show()"
   ]
  },
  {
   "cell_type": "markdown",
   "metadata": {},
   "source": [
    "#### From the boxplot we can tell there is a shift of the distribution, the 25% percentile, median and 75% percentile shifted lower! So there seemed to be improvement from the system change! There were more large order match time after post system change though. To check how confident we are about the shifting of distribution. let's perform some test statistics!"
   ]
  },
  {
   "cell_type": "markdown",
   "metadata": {},
   "source": [
    "#### Since the distributions are not normal, we will have to perform a non-parametric test on the dataset"
   ]
  },
  {
   "cell_type": "markdown",
   "metadata": {},
   "source": [
    "#### We will perform the Mann-Whitney U Test to check the shift of direction with the following assumptions"
   ]
  },
  {
   "cell_type": "markdown",
   "metadata": {},
   "source": [
    "#### 1) All the observations are independent of each other\n",
    "\n",
    "#### 2) Dependent variables (Order match time) are ordinal\n",
    "\n",
    "#### 3) Independent variables (System change) are categorical\n",
    "\n",
    "#### 4) Data is not normally distributed, two distributions have the same shape"
   ]
  },
  {
   "cell_type": "markdown",
   "metadata": {},
   "source": [
    "#### Null hypothesis: Both distributions are the same\n",
    "\n",
    "#### Alternative hypothesis: The post change set has less distribution than the prior change set\n",
    "\n",
    "#### Alpha = 5%\n",
    "\n",
    "#### Decision rule: Reject null hypothesis if p-value is lower than 5%"
   ]
  },
  {
   "cell_type": "code",
   "execution_count": 78,
   "metadata": {},
   "outputs": [
    {
     "data": {
      "text/plain": [
       "MannwhitneyuResult(statistic=3220515.0, pvalue=0.024212376887505993)"
      ]
     },
     "execution_count": 78,
     "metadata": {},
     "output_type": "execute_result"
    }
   ],
   "source": [
    "st.mannwhitneyu(response_prior['Duration'], response_post['Duration'], alternative='greater')"
   ]
  },
  {
   "cell_type": "markdown",
   "metadata": {},
   "source": [
    "#### Here we get a p-value of 0.024 which is considerably smaller than 0.05. Hence we can reject the null hypothesis i.e. both the distributions are the same, with a confidence of 95%.\n",
    "\n",
    "#### Thus it can be said than the change implemented on Order Allocation System has improved the response time of drivers after orders are placed"
   ]
  },
  {
   "cell_type": "markdown",
   "metadata": {},
   "source": [
    "# Question 2) Any additional insights or observations you think are worth noting?"
   ]
  },
  {
   "cell_type": "markdown",
   "metadata": {},
   "source": [
    "#### Lets perform some EDA to get a better understanding of the orders that are being placed"
   ]
  },
  {
   "cell_type": "code",
   "execution_count": 79,
   "metadata": {},
   "outputs": [
    {
     "data": {
      "image/png": "[encoded data removed]",
      "text/plain": [
       "<Figure size 864x432 with 1 Axes>"
      ]
     },
     "metadata": {},
     "output_type": "display_data"
    }
   ],
   "source": [
    "# First we will plot a distribution of the hours of the day during which the orders are being placed\n",
    "plt.figure(figsize=(12,6))\n",
    "sns.countplot(x=\"Order hour\", data=response_df)\n",
    "plt.title('Order per Hour Distribution', fontsize=16)\n",
    "plt.xlabel('Order hour', fontsize=12)\n",
    "plt.xticks(rotation='horizontal')\n",
    "plt.ylabel('No of Orders placed',fontsize=12)\n",
    "plt.show()"
   ]
  },
  {
   "cell_type": "markdown",
   "metadata": {},
   "source": [
    "#### From the above distribution it can be noted than the highest number of orders are being placed from 06:00 to 14:00 hours i.e. from early morning to the afternoon. While, there is no significant amount of orders being placed at night"
   ]
  },
  {
   "cell_type": "code",
   "execution_count": 80,
   "metadata": {},
   "outputs": [
    {
     "data": {
      "text/html": [
       "<div>\n",
       "<style scoped>\n",
       "    .dataframe tbody tr th:only-of-type {\n",
       "        vertical-align: middle;\n",
       "    }\n",
       "\n",
       "    .dataframe tbody tr th {\n",
       "        vertical-align: top;\n",
       "    }\n",
       "\n",
       "    .dataframe thead th {\n",
       "        text-align: right;\n",
       "    }\n",
       "</style>\n",
       "<table border=\"1\" class=\"dataframe\">\n",
       "  <thead>\n",
       "    <tr style=\"text-align: right;\">\n",
       "      <th></th>\n",
       "      <th>Day of week</th>\n",
       "      <th>Orders Placed</th>\n",
       "    </tr>\n",
       "  </thead>\n",
       "  <tbody>\n",
       "    <tr>\n",
       "      <th>0</th>\n",
       "      <td>1</td>\n",
       "      <td>1160</td>\n",
       "    </tr>\n",
       "    <tr>\n",
       "      <th>1</th>\n",
       "      <td>2</td>\n",
       "      <td>624</td>\n",
       "    </tr>\n",
       "    <tr>\n",
       "      <th>2</th>\n",
       "      <td>3</td>\n",
       "      <td>610</td>\n",
       "    </tr>\n",
       "    <tr>\n",
       "      <th>3</th>\n",
       "      <td>4</td>\n",
       "      <td>634</td>\n",
       "    </tr>\n",
       "    <tr>\n",
       "      <th>4</th>\n",
       "      <td>5</td>\n",
       "      <td>418</td>\n",
       "    </tr>\n",
       "    <tr>\n",
       "      <th>5</th>\n",
       "      <td>6</td>\n",
       "      <td>438</td>\n",
       "    </tr>\n",
       "    <tr>\n",
       "      <th>6</th>\n",
       "      <td>7</td>\n",
       "      <td>1116</td>\n",
       "    </tr>\n",
       "  </tbody>\n",
       "</table>\n",
       "</div>"
      ],
      "text/plain": [
       "   Day of week  Orders Placed\n",
       "0            1           1160\n",
       "1            2            624\n",
       "2            3            610\n",
       "3            4            634\n",
       "4            5            418\n",
       "5            6            438\n",
       "6            7           1116"
      ]
     },
     "execution_count": 80,
     "metadata": {},
     "output_type": "execute_result"
    }
   ],
   "source": [
    "# Now lets check which are the busiest days of the week where orders are being placed\n",
    "df = pd.DataFrame()\n",
    "df['Day of week'] = range(1,8)\n",
    "df['Orders Placed'] = response_df['Order day of week'].value_counts()\n",
    "df"
   ]
  },
  {
   "cell_type": "code",
   "execution_count": 81,
   "metadata": {},
   "outputs": [
    {
     "data": {
      "image/png": "[encoded data removed]",
      "text/plain": [
       "<Figure size 864x432 with 1 Axes>"
      ]
     },
     "metadata": {},
     "output_type": "display_data"
    }
   ],
   "source": [
    "day_names = ['Mon', 'Tue', 'Wed', 'Thur', 'Fri', 'Sat', 'Sun']\n",
    "plt.figure(figsize=(12,6))\n",
    "sns.barplot(x='Day of week', y='Orders Placed', data=df)\n",
    "plt.title('Orders Placed per day', fontsize=16)\n",
    "plt.xlabel('Order day of week', fontsize=12)\n",
    "plt.xticks(range(0,7), day_names, rotation='horizontal')\n",
    "plt.ylabel('No. of Orders placed',fontsize=12)\n",
    "plt.show()"
   ]
  },
  {
   "cell_type": "markdown",
   "metadata": {},
   "source": [
    "#### We see that the highest numbers of orders are placed on Sundays and Mondays, while Fridays and Saturdays see the least amount of orders being placed. This can help us better understand customer behavior patterns later"
   ]
  },
  {
   "cell_type": "markdown",
   "metadata": {},
   "source": [
    "#### Now lets check if there is any difference in the duration of response time on the days of the week prior to and post the change in allocation system"
   ]
  },
  {
   "cell_type": "code",
   "execution_count": 82,
   "metadata": {},
   "outputs": [
    {
     "data": {
      "image/png": "[encoded data removed]",
      "text/plain": [
       "<Figure size 864x432 with 1 Axes>"
      ]
     },
     "metadata": {},
     "output_type": "display_data"
    }
   ],
   "source": [
    "plt.figure(figsize=(12,6))\n",
    "plt.plot(response_prior.groupby('Order day of week')['Duration'].mean(), 'ro-', lw=2, alpha=0.7)\n",
    "plt.plot(response_post.groupby('Order day of week')['Duration'].mean(), 'bo-', lw=2, alpha=0.7)\n",
    "\n",
    "plt.xticks(range(0, 7), day_names) #set name of label\n",
    "\n",
    "red_patch = mpatches.Patch(color='red', label='Prior system change')\n",
    "blue_patch = mpatches.Patch(color='blue', label='Post system change')\n",
    "plt.legend(handles=[red_patch, blue_patch])\n",
    "\n",
    "plt.xlabel('Day of week', fontsize=12)\n",
    "plt.ylabel('Average Order Match Time [secs]')\n",
    "plt.title('Average Order Match Time (Day of week)', fontsize=16)\n",
    "plt.show()"
   ]
  },
  {
   "cell_type": "markdown",
   "metadata": {},
   "source": [
    "#### From the above graph we can deduce that the average match time for orders on the busiest days of the week has reduced after the change was implemented on the Order Allocation System. However, the average match time for Saturdays have drastically increased. This can be due to some unknown external factors like driver availability etc."
   ]
  },
  {
   "cell_type": "markdown",
   "metadata": {},
   "source": [
    "# Question 3) Any observations regarding the testing process or     environment? How would you improve or redesign this experiment?"
   ]
  },
  {
   "cell_type": "markdown",
   "metadata": {},
   "source": [
    "#### In order to improve the experiment we can implement A/B testing, where two sets of customers are allowed to use the application in two different versions - One with the changes in the order allocation system and one without the changes, at the same time. This will be a parallel testing environment that will have the same set of external variables for both sets of customers and will thus give us a more statistically accurate result."
   ]
  },
  {
   "cell_type": "code",
   "execution_count": null,
   "metadata": {},
   "outputs": [],
   "source": []
  }
 ],
 "metadata": {
  "kernelspec": {
   "display_name": "Python 3",
   "language": "python",
   "name": "python3"
  },
  "language_info": {
   "codemirror_mode": {
    "name": "ipython",
    "version": 3
   },
   "file_extension": ".py",
   "mimetype": "text/x-python",
   "name": "python",
   "nbconvert_exporter": "python",
   "pygments_lexer": "ipython3",
   "version": "3.7.1"
  }
 },
 "nbformat": 4,
 "nbformat_minor": 2
}
